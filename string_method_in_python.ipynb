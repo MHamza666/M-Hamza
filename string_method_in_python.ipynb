{
  "nbformat": 4,
  "nbformat_minor": 0,
  "metadata": {
    "colab": {
      "provenance": [],
      "private_outputs": true,
      "authorship_tag": "ABX9TyP1I72EMJTAawBAr7WWAix6",
      "include_colab_link": true
    },
    "kernelspec": {
      "name": "python3",
      "display_name": "Python 3"
    },
    "language_info": {
      "name": "python"
    }
  },
  "cells": [
    {
      "cell_type": "markdown",
      "metadata": {
        "id": "view-in-github",
        "colab_type": "text"
      },
      "source": [
        "<a href=\"https://colab.research.google.com/github/MHamza666/M-Hamza/blob/main/string_method_in_python.ipynb\" target=\"_parent\"><img src=\"https://colab.research.google.com/assets/colab-badge.svg\" alt=\"Open In Colab\"/></a>"
      ]
    },
    {
      "cell_type": "markdown",
      "source": [
        "# String method"
      ],
      "metadata": {
        "id": "k71U0EvkdDK_"
      }
    },
    {
      "cell_type": "code",
      "source": [
        "# string is immutable\n",
        "a=\"hamza\"\n",
        "print(len(a))"
      ],
      "metadata": {
        "id": "tbQamYVydJqq"
      },
      "execution_count": null,
      "outputs": []
    },
    {
      "cell_type": "code",
      "source": [
        "a=\"hamza\"\n",
        "print(a)"
      ],
      "metadata": {
        "id": "2vpTTl5IdiK-"
      },
      "execution_count": null,
      "outputs": []
    },
    {
      "cell_type": "markdown",
      "source": [
        "# upper,lower method"
      ],
      "metadata": {
        "id": "EdswPIXvlrwT"
      }
    },
    {
      "cell_type": "code",
      "source": [
        "a=\"hamza\"\n",
        "print(a.upper())"
      ],
      "metadata": {
        "id": "YQOP0SXud8Uu"
      },
      "execution_count": null,
      "outputs": []
    },
    {
      "cell_type": "code",
      "source": [
        "a=\"hamza\"\n",
        "print(a.lower())"
      ],
      "metadata": {
        "id": "vbxWjY5eeDh2"
      },
      "execution_count": null,
      "outputs": []
    },
    {
      "cell_type": "markdown",
      "source": [
        "## rstrip"
      ],
      "metadata": {
        "id": "GkD5ULnLli4r"
      }
    },
    {
      "cell_type": "code",
      "source": [
        "a=\"hamza\"\n",
        "print(a.rstrip())"
      ],
      "metadata": {
        "id": "IDRHjxs3eQhv"
      },
      "execution_count": null,
      "outputs": []
    },
    {
      "cell_type": "code",
      "source": [
        "a=\"!!hamza!!!!!!!!!\"\n",
        "print(a.rstrip())\n"
      ],
      "metadata": {
        "id": "rkST_ruCeP4N"
      },
      "execution_count": null,
      "outputs": []
    },
    {
      "cell_type": "code",
      "source": [
        "a=\"!!hamza!!!!!!\"\n",
        "print(a.rstrip(\"!\"))"
      ],
      "metadata": {
        "id": "UIvToI8aerLr"
      },
      "execution_count": null,
      "outputs": []
    },
    {
      "cell_type": "code",
      "source": [
        "a=\"!!!hamza!!!!!hamza\"\n",
        "print(a)\n",
        "print(a.rstrip())\n",
        "print(a.rstrip(\"!\"))"
      ],
      "metadata": {
        "id": "JZgJhLLAfg10"
      },
      "execution_count": null,
      "outputs": []
    },
    {
      "cell_type": "markdown",
      "source": [
        "# Replace method"
      ],
      "metadata": {
        "id": "9RN1fe2blUy4"
      }
    },
    {
      "cell_type": "code",
      "source": [
        "a=\"!!hamza!!!\"\n",
        "print(a.replace(\"hamza\",\"ali\"))\n",
        "a=\"hamza!!!!hamza\"\n",
        "print(a.replace(\"hamza\",\"ali\"))"
      ],
      "metadata": {
        "id": "NcucYCnFgGfl"
      },
      "execution_count": null,
      "outputs": []
    },
    {
      "cell_type": "code",
      "source": [
        "\n",
        "a=\"hamza\"\n",
        "print(a.replace(\"hamza\",\"ali\"))"
      ],
      "metadata": {
        "id": "FmiNOBihhAiy"
      },
      "execution_count": null,
      "outputs": []
    },
    {
      "cell_type": "markdown",
      "source": [
        "## split method"
      ],
      "metadata": {
        "id": "OdV2aTOjlEK9"
      }
    },
    {
      "cell_type": "code",
      "source": [
        "a=\"!!!hamza !!!!! hamza\"\n",
        "print(a.split(\" \"))"
      ],
      "metadata": {
        "id": "E7i1fMBmg9rX"
      },
      "execution_count": null,
      "outputs": []
    },
    {
      "cell_type": "markdown",
      "source": [
        "# capitalize method"
      ],
      "metadata": {
        "id": "Omk2xKjik6Vs"
      }
    },
    {
      "cell_type": "code",
      "source": [
        "blogheading=\"introduction to python\"\n",
        "print(blogheading.capitalize())"
      ],
      "metadata": {
        "id": "gkkMukiWjOiC"
      },
      "execution_count": null,
      "outputs": []
    },
    {
      "cell_type": "code",
      "source": [
        "a=\"i am a good boy\"\n",
        "print(a.capitalize())"
      ],
      "metadata": {
        "id": "JZQzEkjlj0-f"
      },
      "execution_count": null,
      "outputs": []
    },
    {
      "cell_type": "markdown",
      "source": [
        "# center method"
      ],
      "metadata": {
        "id": "mUgSOBkWl2kX"
      }
    },
    {
      "cell_type": "code",
      "source": [
        "str1=\"wellcome in my office\"\n",
        "print(str1.center(50))"
      ],
      "metadata": {
        "id": "YAbA1NwUkznZ"
      },
      "execution_count": null,
      "outputs": []
    },
    {
      "cell_type": "code",
      "source": [
        "str1=\"wellcome in my office\"\n",
        "print(str1.center(70))"
      ],
      "metadata": {
        "id": "qRcqiBrbmxQn"
      },
      "execution_count": null,
      "outputs": []
    },
    {
      "cell_type": "code",
      "source": [
        "str1=\"wellcome in my office\"\n",
        "print(len(str1))"
      ],
      "metadata": {
        "id": "xmMjqGT5n1jc"
      },
      "execution_count": null,
      "outputs": []
    },
    {
      "cell_type": "code",
      "source": [
        "str1=\"wellcome in my office\"\n",
        "print(len(str1.center(50)))"
      ],
      "metadata": {
        "id": "EK5ArVc6oAa1"
      },
      "execution_count": null,
      "outputs": []
    },
    {
      "cell_type": "markdown",
      "source": [
        "# count"
      ],
      "metadata": {
        "id": "YEzGZUHXpJwD"
      }
    },
    {
      "cell_type": "code",
      "source": [
        "a=\"hamza,hamza,hamza,\"\n",
        "print(a.count(\"hamza\"))"
      ],
      "metadata": {
        "id": "N1M17nqGpDSp"
      },
      "execution_count": null,
      "outputs": []
    },
    {
      "cell_type": "code",
      "source": [
        "a=\"hamza,ali,hamza,ali,hamza,ali\"\n",
        "print(a.count(\"hamza,ali\"))"
      ],
      "metadata": {
        "id": "l0m_wpqypUBk"
      },
      "execution_count": null,
      "outputs": []
    },
    {
      "cell_type": "markdown",
      "source": [
        "# Endswith()"
      ],
      "metadata": {
        "id": "X6nMOSXlrK-V"
      }
    },
    {
      "cell_type": "code",
      "source": [
        "a=(\"welcome to the console!!!\")\n",
        "print(a.endswith(\"!!!\"))"
      ],
      "metadata": {
        "id": "CyhgKyhdrJ85"
      },
      "execution_count": null,
      "outputs": []
    },
    {
      "cell_type": "code",
      "source": [
        "a=(\"welcome to the console!!!\")\n",
        "print(a.endswith(\"to\",4,10))"
      ],
      "metadata": {
        "id": "RX0TVfpartaT"
      },
      "execution_count": null,
      "outputs": []
    },
    {
      "cell_type": "code",
      "source": [
        "a=(\"welcome to the console!!!\")\n",
        "print(a.endswith(\"to,4,10\"))"
      ],
      "metadata": {
        "id": "o5o1NYVfsXol"
      },
      "execution_count": null,
      "outputs": []
    },
    {
      "cell_type": "markdown",
      "source": [
        "# find()"
      ],
      "metadata": {
        "id": "1Mb_QWsIs57a"
      }
    },
    {
      "cell_type": "code",
      "source": [
        "str1=\"He's name is ali. He is an honest man\"\n",
        "print(str1.find(\"is\"))"
      ],
      "metadata": {
        "id": "IIE9N2TStDxm"
      },
      "execution_count": null,
      "outputs": []
    },
    {
      "cell_type": "code",
      "source": [
        "a=\"he is good boy.he live Lahore\"\n",
        "print(a.find(\"live\"))"
      ],
      "metadata": {
        "id": "J6vC6WjXti1m"
      },
      "execution_count": null,
      "outputs": []
    },
    {
      "cell_type": "code",
      "source": [
        "str1=\"He's name is ali. He is an honest man\"\n",
        "print(str1.find(\"ishh\"))"
      ],
      "metadata": {
        "id": "x6p_80sfvMyJ"
      },
      "execution_count": null,
      "outputs": []
    },
    {
      "cell_type": "markdown",
      "source": [
        "# index()"
      ],
      "metadata": {
        "id": "RJHnxFaWvzHt"
      }
    },
    {
      "cell_type": "code",
      "source": [
        "str1=\"He's name is ali. ali is an honest man\"\n",
        "print(str1.index(\"ali\"))"
      ],
      "metadata": {
        "id": "VF4IaOK0v54h"
      },
      "execution_count": null,
      "outputs": []
    },
    {
      "cell_type": "code",
      "source": [
        "str1=\"He's name is ali. ali is an honest man\"\n",
        "print(str1.index(\"is\"))"
      ],
      "metadata": {
        "id": "qOo-oqvRxvkq"
      },
      "execution_count": null,
      "outputs": []
    },
    {
      "cell_type": "markdown",
      "source": [
        "# isalnum()"
      ],
      "metadata": {
        "id": "mOlqKnE6ydS3"
      }
    },
    {
      "cell_type": "code",
      "source": [
        "a=\"welcometotheconsole\"\n",
        "print(a.isalnum())"
      ],
      "metadata": {
        "id": "PGrrC_Tpym-J"
      },
      "execution_count": null,
      "outputs": []
    },
    {
      "cell_type": "code",
      "source": [
        "str1=\"welcome to the console\"\n",
        "print(str1.isalnum())"
      ],
      "metadata": {
        "id": "lAiuJ-VUzbsw"
      },
      "execution_count": null,
      "outputs": []
    },
    {
      "cell_type": "code",
      "source": [
        "a=\"He is good boy\"\n",
        "print(a.isalnum())"
      ],
      "metadata": {
        "id": "GmEqePXe0CID"
      },
      "execution_count": null,
      "outputs": []
    },
    {
      "cell_type": "code",
      "source": [
        "a=\"Heisgoodboy\"\n",
        "print(a.isalnum())\n"
      ],
      "metadata": {
        "id": "AlV0cnhf0mNt"
      },
      "execution_count": null,
      "outputs": []
    },
    {
      "cell_type": "markdown",
      "source": [
        "# Isalpha()"
      ],
      "metadata": {
        "id": "8ddqudfN1klk"
      }
    },
    {
      "cell_type": "code",
      "source": [
        "a=\"welcome\"\n",
        "print(a.isalpha())"
      ],
      "metadata": {
        "id": "ClgNYkpF1dfw"
      },
      "execution_count": null,
      "outputs": []
    },
    {
      "cell_type": "code",
      "source": [
        "a=\"welcome12\"\n",
        "print(a.isalpha())"
      ],
      "metadata": {
        "id": "Eithtd2s12up"
      },
      "execution_count": null,
      "outputs": []
    },
    {
      "cell_type": "markdown",
      "source": [
        "# islower()"
      ],
      "metadata": {
        "id": "JIDSidtc2UQp"
      }
    },
    {
      "cell_type": "code",
      "source": [
        "a=\"hello world\"\n",
        "print(a.islower())"
      ],
      "metadata": {
        "id": "bt9f8kWy2ZeQ"
      },
      "execution_count": null,
      "outputs": []
    },
    {
      "cell_type": "code",
      "source": [
        "a=\"hello world 12\"\n",
        "print(a.islower())"
      ],
      "metadata": {
        "id": "IaC6LwJU2u_3"
      },
      "execution_count": null,
      "outputs": []
    },
    {
      "cell_type": "code",
      "source": [
        "a=\"Hello World\"\n",
        "print(a.islower())"
      ],
      "metadata": {
        "id": "Y-7cTWUq3O22"
      },
      "execution_count": null,
      "outputs": []
    },
    {
      "cell_type": "markdown",
      "source": [
        "# Isprintable()"
      ],
      "metadata": {
        "id": "yRRD5ZGl4ImW"
      }
    },
    {
      "cell_type": "code",
      "source": [
        "a=\"We wish you a Happy birthday\"\n",
        "print(a.isprintable())"
      ],
      "metadata": {
        "id": "D_2Vamke4WLO"
      },
      "execution_count": null,
      "outputs": []
    },
    {
      "cell_type": "code",
      "source": [
        "a=\"We wish you a Happy birthday/n\"\n",
        "print(a.isprintable())"
      ],
      "metadata": {
        "id": "lSDvhb7z41e5"
      },
      "execution_count": null,
      "outputs": []
    },
    {
      "cell_type": "code",
      "source": [
        "a=\"We wish you a Happy birthday...\"\n",
        "print(a)"
      ],
      "metadata": {
        "id": "QfkYvjOm5BXa"
      },
      "execution_count": null,
      "outputs": []
    },
    {
      "cell_type": "markdown",
      "source": [
        "# Isspace()"
      ],
      "metadata": {
        "id": "FGZH4Tm853s1"
      }
    },
    {
      "cell_type": "code",
      "source": [
        "a= \"    \"\n",
        "print(a.isspace())\n"
      ],
      "metadata": {
        "id": "CL5j2Gtj6DBs"
      },
      "execution_count": null,
      "outputs": []
    },
    {
      "cell_type": "code",
      "source": [
        "a=\"hi\"\n",
        "print(a.isspace())"
      ],
      "metadata": {
        "id": "sZG3RgoW6SbF"
      },
      "execution_count": null,
      "outputs": []
    },
    {
      "cell_type": "markdown",
      "source": [
        "# Istitle()"
      ],
      "metadata": {
        "id": "G5bYuIJc7huT"
      }
    },
    {
      "cell_type": "code",
      "source": [
        "a=\"World Health Organisation\"\n",
        "print(a.istitle())"
      ],
      "metadata": {
        "id": "tFyzigY78FbL"
      },
      "execution_count": null,
      "outputs": []
    },
    {
      "cell_type": "code",
      "source": [
        "a=\"world health organisation\"\n",
        "print(a.istitle())"
      ],
      "metadata": {
        "id": "H7Bst_Pg8gqz"
      },
      "execution_count": null,
      "outputs": []
    },
    {
      "cell_type": "code",
      "source": [
        "a=\"To Kill A Mocking Bird\"\n",
        "print(a.istitle())"
      ],
      "metadata": {
        "id": "mWY9sc5p8-Jm"
      },
      "execution_count": null,
      "outputs": []
    },
    {
      "cell_type": "markdown",
      "source": [
        "## Isupper()"
      ],
      "metadata": {
        "id": "8V7L0Wgf9fS6"
      }
    },
    {
      "cell_type": "code",
      "source": [
        "str1=\"WORLD HEALTH ORGANIZATION\"\n",
        "print(str1.isupper())"
      ],
      "metadata": {
        "id": "aEXsZNjs9dcG"
      },
      "execution_count": null,
      "outputs": []
    },
    {
      "cell_type": "code",
      "source": [
        "str1=\"World Health organization\"\n",
        "print(str1.isupper())"
      ],
      "metadata": {
        "id": "recYTYY-qQpJ"
      },
      "execution_count": null,
      "outputs": []
    },
    {
      "cell_type": "markdown",
      "source": [
        "# Startswith"
      ],
      "metadata": {
        "id": "IIdiwHRlqtIV"
      }
    },
    {
      "cell_type": "code",
      "source": [
        "a=\"python is a interpreted language\"\n",
        "print(a.startswith(\"python\"))"
      ],
      "metadata": {
        "id": "00mk2Iw3qzGj"
      },
      "execution_count": null,
      "outputs": []
    },
    {
      "cell_type": "markdown",
      "source": [
        "# swapcase"
      ],
      "metadata": {
        "id": "iPW1KT8crS21"
      }
    },
    {
      "cell_type": "code",
      "source": [
        "a=\"python is a interpreted language\"\n",
        "print(a.swapcase())"
      ],
      "metadata": {
        "id": "BbeM8DB8rfUI"
      },
      "execution_count": null,
      "outputs": []
    },
    {
      "cell_type": "markdown",
      "source": [
        "# title()"
      ],
      "metadata": {
        "id": "MFIlbof0sMWD"
      }
    },
    {
      "cell_type": "code",
      "source": [
        "str1=\"He's name is Ali.Ali is an honest man\"\n",
        "print(str1.title())"
      ],
      "metadata": {
        "id": "7FLRBxgdsUSS"
      },
      "execution_count": null,
      "outputs": []
    }
  ]
}