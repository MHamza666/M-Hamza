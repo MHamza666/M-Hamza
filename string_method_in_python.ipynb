{
  "nbformat": 4,
  "nbformat_minor": 0,
  "metadata": {
    "colab": {
      "provenance": [],
      "private_outputs": true,
      "authorship_tag": "ABX9TyNUUdtRthgnnl0ZtKhBo9Nu",
      "include_colab_link": true
    },
    "kernelspec": {
      "name": "python3",
      "display_name": "Python 3"
    },
    "language_info": {
      "name": "python"
    }
  },
  "cells": [
    {
      "cell_type": "markdown",
      "metadata": {
        "id": "view-in-github",
        "colab_type": "text"
      },
      "source": [
        "<a href=\"https://colab.research.google.com/github/MHamza666/M-Hamza/blob/main/string_method_in_python.ipynb\" target=\"_parent\"><img src=\"https://colab.research.google.com/assets/colab-badge.svg\" alt=\"Open In Colab\"/></a>"
      ]
    },
    {
      "cell_type": "markdown",
      "source": [
        "# Match case state"
      ],
      "metadata": {
        "id": "0JijIQtcwml_"
      }
    },
    {
      "cell_type": "code",
      "source": [
        "x=int(input(\"enter the value of x:\"))\n",
        "match x:\n",
        "  case 0:\n",
        "    print(\"case is zero\")\n",
        "  case 4:\n",
        "    print(\"case is 4\")\n",
        "  case x:\n",
        "    print(x)"
      ],
      "metadata": {
        "id": "J58DEAOSwjVq"
      },
      "execution_count": null,
      "outputs": []
    },
    {
      "cell_type": "code",
      "source": [
        "x=int(input(\"enter the value of x:\"))\n",
        "match x:\n",
        "  case 0:\n",
        "    print(\"case is zero\")\n",
        "  case 2:\n",
        "    print(\"case is 2\")\n",
        "  case 3:\n",
        "    print(\"case is 3\")\n",
        "  case 4:\n",
        "    print(\"case is 4\")\n",
        "  case x:\n",
        "    print(x)"
      ],
      "metadata": {
        "id": "AhbqCrxl0B9e"
      },
      "execution_count": null,
      "outputs": []
    },
    {
      "cell_type": "code",
      "source": [
        "x=int(input(\"enter the value of x:\"))\n",
        "match x:\n",
        "  case 0:\n",
        "    print(\"case is zero\")\n",
        "  case 2:\n",
        "    print(\"case is 2\")\n",
        "  case 3:\n",
        "    print(\"case is 3\")\n",
        "  case 4:\n",
        "    print(\"case is 4\")\n",
        "  case x:\n",
        "    print(x)"
      ],
      "metadata": {
        "id": "TmtRMmiKBqAV"
      },
      "execution_count": null,
      "outputs": []
    }
  ]
}