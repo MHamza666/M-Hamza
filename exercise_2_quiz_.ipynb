{
  "cells": [
    {
      "cell_type": "markdown",
      "metadata": {
        "id": "view-in-github",
        "colab_type": "text"
      },
      "source": [
        "<a href=\"https://colab.research.google.com/github/MHamza666/M-Hamza/blob/main/exercise_2_quiz_.ipynb\" target=\"_parent\"><img src=\"https://colab.research.google.com/assets/colab-badge.svg\" alt=\"Open In Colab\"/></a>"
      ]
    },
    {
      "cell_type": "markdown",
      "source": [
        "1 = create a program  capable of displaying question to the user\n",
        "2 = use list data type to store the question and their correct answer\n",
        "3 = display the final amount the person is taking home after play game"
      ],
      "metadata": {
        "id": "xm813kG30_IS"
      }
    },
    {
      "cell_type": "code",
      "source": [
        "questions=[\n",
        "  [\n",
        "      \"A type of instruction that produce several lines of machine language code is a?\",\"Assemble\",\"Address\",\"Mnemonic\",\"Macro\",\"None\",4\n",
        "  ],\n",
        "  [\n",
        "      \"____ is an input device that controls the movements of the cursor on the display screen.\",\"Scanner\",\"monitor\",\"light pen\",\"mouse\",\"none\",4\n",
        "  ],\n",
        "  [\n",
        "      \"The main function of the CPU is to perform arithmetic and logical operations on data taken from ____.\",\" Permanent memory\",\"control unit\",\"main memory\",\n",
        "      \"cpu\",\"none\",4\n",
        "  ],\n",
        "  [\n",
        "      \"____ is a memory on which data can be written only once.\",\"EPROM\",\"PROM\",\"ROM\",\"RAM\",\"NONE\",4\n",
        "  ],\n",
        "  [\n",
        "      \"Which language is directly understood by the computer without translation program?\",\"Machine language\",\" High level language\",\"BASIC language\",\n",
        "      \"Assembly language\",\"NONE\",4\n",
        "  ],\n",
        "  [\n",
        "      \"Which 32-bit microprocessor is used in IBMâ€™s PS/2 model 80 computer?\",8088,80286,80386,80486,\"NONE\",4\n",
        "  ],\n",
        "  [\n",
        "      \"Which company announced the first IBM PC clone called MPC?\",\"Honey Well Bull Inc\",\"Columbia Data products\",\"Carona systems\",\"Compaef computer Inc\",\n",
        "      \"NONE\",4\n",
        "  ],\n",
        "  [\n",
        "      \"The team at Intel that built the first microprocessor was headed by\",\"Marcian E (Ted) Hoff\",\"Stan mazor\",\"Victor poor\",\"Seymour cray\",\"NONE\"\n",
        "  ],\n",
        "  [\n",
        "      \"Who amongst the following is credited with the building of the operational stored program computer?\",\"Maurice V. Wilkes\",\"J.P. Eckert\",\n",
        "      \"Grace Murray Hoppy\",\" Howard Aiken\",\"NONE\",4\n",
        "  ],\n",
        "  [\n",
        "      \"Which of the following is associated with second generation computers?\",\"Magnetic core memory\",\" Operating core memory\",\"Transistors\",\"All of these\",\n",
        "      \"NONE\",4\n",
        "  ],\n",
        "]\n",
        "\n",
        "# I WILL SIMPLY RUN A LOOP DOWN'\n",
        "\n",
        "levels=[10000,20000,30000,40000,50000,60000,70000,8000,90000,120000]\n",
        "money=0\n",
        "for i in range(0, len(questions)):\n",
        "\n",
        "  question=questions[i]\n",
        "  print(f\"question for Rs.{levels[i]}\")\n",
        "  print(f\"a.{question[1]}          b.{question[2]}\")\n",
        "  print(f\"c.{question[3]}          d.{question[4]}\")\n",
        "  reply=int(input(\"Enter your answer: \"))\n",
        "  if (reply == 0):\n",
        "    money = levels[i-1]\n",
        "    break\n",
        "  if(reply == question[-1]):\n",
        "    print(f\"Correct answer, you have won Rs. {levels[i]}\")\n",
        "  if(i == 4):\n",
        "    money = 10000\n",
        "  elif(i == 9):\n",
        "    money = 120000\n",
        "  else:\n",
        "   (\"Wrong answer!\")\n",
        "   break\n",
        "\n",
        "  print(f\"You take home money is {money}\")\n"
      ],
      "metadata": {
        "colab": {
          "base_uri": "https://localhost:8080/"
        },
        "id": "qE5m0HFf1ohG",
        "outputId": "847bef27-c4fc-4d3c-c801-470f0e9d60d4"
      },
      "execution_count": 33,
      "outputs": [
        {
          "output_type": "stream",
          "name": "stdout",
          "text": [
            "question for Rs.10000\n",
            "a.Assemble          b.Address\n",
            "c.Mnemonic          d.Macro\n",
            "Enter your answer: 4\n",
            "Correct answer, you have won Rs. 10000\n"
          ]
        }
      ]
    }
  ],
  "metadata": {
    "colab": {
      "provenance": [],
      "authorship_tag": "ABX9TyNxVvNBgWZoc0wJPhan1Sln",
      "include_colab_link": true
    },
    "kernelspec": {
      "display_name": "Python 3",
      "name": "python3"
    },
    "language_info": {
      "name": "python"
    }
  },
  "nbformat": 4,
  "nbformat_minor": 0
}